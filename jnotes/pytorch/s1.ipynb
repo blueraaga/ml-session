{
 "cells": [
  {
   "cell_type": "markdown",
   "metadata": {},
   "source": [
    "# Basic PyTorch"
   ]
  },
  {
   "cell_type": "markdown",
   "metadata": {},
   "source": [
    "## 1. Import and use"
   ]
  },
  {
   "cell_type": "code",
   "execution_count": 55,
   "metadata": {},
   "outputs": [
    {
     "name": "stdout",
     "output_type": "stream",
     "text": [
      "1.4.0+cpu\n",
      "1.18.2\n"
     ]
    }
   ],
   "source": [
    "# Import Toch and check version\n",
    "\n",
    "import torch\n",
    "print(torch.__version__)\n",
    "\n",
    "import numpy as np\n",
    "print(np.__version__)\n"
   ]
  },
  {
   "cell_type": "markdown",
   "metadata": {},
   "source": [
    "## 2. Create tensors"
   ]
  },
  {
   "cell_type": "code",
   "execution_count": 4,
   "metadata": {},
   "outputs": [
    {
     "name": "stdout",
     "output_type": "stream",
     "text": [
      "tensor([2, 2, 1])\n"
     ]
    }
   ],
   "source": [
    "# Create 1D tensor\n",
    "\n",
    "a = torch.tensor([2, 2, 1])\n",
    "print(a)"
   ]
  },
  {
   "cell_type": "code",
   "execution_count": 14,
   "metadata": {},
   "outputs": [
    {
     "name": "stdout",
     "output_type": "stream",
     "text": [
      "tensor([[2, 1, 4],\n",
      "        [3, 5, 4],\n",
      "        [1, 2, 0],\n",
      "        [4, 3, 2]])\n"
     ]
    }
   ],
   "source": [
    "# Create 2D tensor\n",
    "\n",
    "b = torch.tensor([\n",
    "    [2, 1, 4],\n",
    "    [3, 5, 4],\n",
    "    [1, 2, 0],\n",
    "    [4, 3, 2]\n",
    "    ])\n",
    "\n",
    "print(b)"
   ]
  },
  {
   "cell_type": "code",
   "execution_count": 25,
   "metadata": {},
   "outputs": [
    {
     "name": "stdout",
     "output_type": "stream",
     "text": [
      "tensor([[2., 1., 4.],\n",
      "        [3., 5., 4.],\n",
      "        [1., 2., 0.],\n",
      "        [4., 3., 2.]]) torch.float32\n"
     ]
    }
   ],
   "source": [
    "# Making tensors withnon-integer real numbers\n",
    "# setting dtype = float or double\n",
    "c = torch.tensor([\n",
    "    [2, 1, 4],\n",
    "    [3, 5, 4],\n",
    "    [1, 2, 0],\n",
    "    [4, 3, 2]\n",
    "    ], dtype=torch.float)\n",
    "\n",
    "print(c, c.dtype)"
   ]
  },
  {
   "cell_type": "markdown",
   "metadata": {},
   "source": [
    "## 3. Play with shape and size"
   ]
  },
  {
   "cell_type": "code",
   "execution_count": 15,
   "metadata": {},
   "outputs": [
    {
     "name": "stdout",
     "output_type": "stream",
     "text": [
      "Size and shape of a:  torch.Size([3])   torch.Size([3])\n",
      "Size and shape of b:  torch.Size([4, 3])   torch.Size([4, 3])\n"
     ]
    }
   ],
   "source": [
    "# Size and shape of tensors\n",
    "\n",
    "print(\"Size and shape of a: \", a.size(), \" \", a.shape)\n",
    "print(\"Size and shape of b: \", b.size(), \" \", b.shape)"
   ]
  },
  {
   "cell_type": "code",
   "execution_count": 16,
   "metadata": {},
   "outputs": [
    {
     "name": "stdout",
     "output_type": "stream",
     "text": [
      "Rows and columns of b:  4   3\n"
     ]
    }
   ],
   "source": [
    "# Rows and columns in a tensor\n",
    "\n",
    "print(\"Rows and columns of b: \", b.shape[0], \" \", b.shape[1])"
   ]
  },
  {
   "cell_type": "code",
   "execution_count": 24,
   "metadata": {},
   "outputs": [
    {
     "name": "stdout",
     "output_type": "stream",
     "text": [
      "b1(?, 2) tensor([[2, 1],\n",
      "        [4, 3],\n",
      "        [5, 4],\n",
      "        [1, 2],\n",
      "        [0, 4],\n",
      "        [3, 2]])\n",
      "b2(?) tensor([2, 1, 4, 3, 5, 4, 1, 2, 0, 4, 3, 2])\n",
      "b3(1, ?) tensor([[2, 1, 4, 3, 5, 4, 1, 2, 0, 4, 3, 2]])\n",
      "b4(?, 1) tensor([[2],\n",
      "        [1],\n",
      "        [4],\n",
      "        [3],\n",
      "        [5],\n",
      "        [4],\n",
      "        [1],\n",
      "        [2],\n",
      "        [0],\n",
      "        [4],\n",
      "        [3],\n",
      "        [2]])\n"
     ]
    }
   ],
   "source": [
    "# Reshaping array\n",
    "\n",
    "b1 = b.view(-1, 2)  # Auto infer row, col = 2\n",
    "print(\"b1(?, 2)\", b1)\n",
    "\n",
    "b2 = b.view(-1)  # Make no row, auto infer col \n",
    "print(\"b2(?)\", b2) \n",
    "\n",
    "b3 = b.view(1, -1)  # Make 1 row, auto infer col\n",
    "print(\"b3(1, ?)\", b3) \n",
    "\n",
    "b4 = b.view(-1, 1)  # Auto infer row, col = 1\n",
    "print(\"b4(?, 1)\", b4) "
   ]
  },
  {
   "cell_type": "markdown",
   "metadata": {},
   "source": [
    "## 4. Make tensors of specific type"
   ]
  },
  {
   "cell_type": "code",
   "execution_count": 29,
   "metadata": {},
   "outputs": [
    {
     "name": "stdout",
     "output_type": "stream",
     "text": [
      "torch.float32 tensor([[0.2151, 0.7303, 0.6890, 0.8175],\n",
      "        [0.0190, 0.1894, 0.6280, 0.4389],\n",
      "        [0.2035, 0.4016, 0.1507, 0.0267]])\n"
     ]
    }
   ],
   "source": [
    "# Create a random 2D tensor\n",
    "\n",
    "r1 = torch.rand(3, 4)\n",
    "print(r1.dtype, r1)"
   ]
  },
  {
   "cell_type": "code",
   "execution_count": 43,
   "metadata": {},
   "outputs": [
    {
     "name": "stdout",
     "output_type": "stream",
     "text": [
      "torch.float32 tensor([[0.9898, 0.2426, 0.4915, 0.7938],\n",
      "        [0.8542, 0.6184, 0.1077, 0.8109],\n",
      "        [0.8584, 0.2856, 0.0615, 0.0022]])\n"
     ]
    }
   ],
   "source": [
    "# Create a random 2D tensor from a N(0,1)\n",
    "\n",
    "r2 = torch.rand(3, 4)\n",
    "print(r2.dtype, r2)"
   ]
  },
  {
   "cell_type": "code",
   "execution_count": 37,
   "metadata": {},
   "outputs": [
    {
     "name": "stdout",
     "output_type": "stream",
     "text": [
      "torch.float32 tensor([[[0.2100, 0.9113, 0.4857, 0.9741],\n",
      "         [0.4527, 0.9643, 0.8478, 0.3518],\n",
      "         [0.5212, 0.1247, 0.9733, 0.2024]],\n",
      "\n",
      "        [[0.1366, 0.5560, 0.5364, 0.7538],\n",
      "         [0.7289, 0.3478, 0.9708, 0.7126],\n",
      "         [0.4414, 0.8400, 0.7235, 0.2853]]])\n"
     ]
    }
   ],
   "source": [
    "# Create a random 3D tensor from a N(0,1)\n",
    "\n",
    "r3 = torch.rand(2, 3, 4)\n",
    "print(r3.dtype, r3)"
   ]
  },
  {
   "cell_type": "code",
   "execution_count": 34,
   "metadata": {},
   "outputs": [
    {
     "name": "stdout",
     "output_type": "stream",
     "text": [
      "torch.int64 tensor([7, 8, 6, 8, 7])\n",
      "torch.int64 tensor([[6, 8, 8],\n",
      "        [8, 7, 7]])\n"
     ]
    }
   ],
   "source": [
    "# Create int array from a given range, of a given size\n",
    "\n",
    "i1 = torch.randint(6, 10, (5,))  # 10 is excluded\n",
    "print(i1.dtype, i1)\n",
    "\n",
    "i2 = torch.randint(6, 10, (2,3))\n",
    "print(i2.dtype, i2)"
   ]
  },
  {
   "cell_type": "code",
   "execution_count": 35,
   "metadata": {},
   "outputs": [
    {
     "name": "stdout",
     "output_type": "stream",
     "text": [
      "tensor([[0., 0., 0.],\n",
      "        [0., 0., 0.]])\n"
     ]
    }
   ],
   "source": [
    "# Create a Zeros matrix\n",
    "\n",
    "z = torch.zeros(2, 3)\n",
    "print(z)"
   ]
  },
  {
   "cell_type": "code",
   "execution_count": 36,
   "metadata": {},
   "outputs": [
    {
     "name": "stdout",
     "output_type": "stream",
     "text": [
      "tensor([[1., 1., 1.],\n",
      "        [1., 1., 1.]])\n"
     ]
    }
   ],
   "source": [
    "# Create a Ones matrix\n",
    "\n",
    "o = torch.ones(2, 3)\n",
    "print(o)"
   ]
  },
  {
   "cell_type": "code",
   "execution_count": 41,
   "metadata": {},
   "outputs": [
    {
     "name": "stdout",
     "output_type": "stream",
     "text": [
      "tensor([[0.9087, 0.8084, 0.5388, 0.1632],\n",
      "        [0.3659, 0.9269, 0.0478, 0.7144],\n",
      "        [0.0718, 0.9268, 0.6613, 0.7611]], dtype=torch.float64)\n"
     ]
    }
   ],
   "source": [
    "# Create a tensor like the size of another tensor, of a give data type\n",
    "\n",
    "r2_la = torch.rand_like(r2, dtype=torch.double)\n",
    "print(r2_la)"
   ]
  },
  {
   "cell_type": "markdown",
   "metadata": {},
   "source": [
    "## 5. Slicing tensors"
   ]
  },
  {
   "cell_type": "code",
   "execution_count": 49,
   "metadata": {},
   "outputs": [
    {
     "name": "stdout",
     "output_type": "stream",
     "text": [
      "tensor([[0.8817, 0.7901, 0.3299],\n",
      "        [0.9962, 0.7578, 0.6344],\n",
      "        [0.0666, 0.1827, 0.2787]])\n",
      "tensor([0.7901, 0.7578, 0.1827]) torch.Size([3])\n",
      "tensor([[0.7901],\n",
      "        [0.7578],\n",
      "        [0.1827]]) torch.Size([3, 1])\n",
      "tensor([0.0666, 0.1827, 0.2787])\n",
      "tensor([[0.9962, 0.7578],\n",
      "        [0.0666, 0.1827]])\n"
     ]
    }
   ],
   "source": [
    "rs = torch.rand(3, 3)\n",
    "print(rs)\n",
    "\n",
    "# All row, col index 1\n",
    "rs1 = rs[:,1]\n",
    "print(rs1, rs1.shape)\n",
    "\n",
    "# All row, col index 1 while keeping the \"shape\"\n",
    "rs2 = rs[:,1:2]\n",
    "print(rs2, rs2.shape)\n",
    "\n",
    "\n",
    "# All col, row index 2\n",
    "print(rs[2,:])\n",
    "\n",
    "# Row index 1-2, col index 0-1\n",
    "print(rs[1:, :2])"
   ]
  },
  {
   "cell_type": "markdown",
   "metadata": {},
   "source": [
    "## 6. Extracting element"
   ]
  },
  {
   "cell_type": "code",
   "execution_count": 50,
   "metadata": {},
   "outputs": [
    {
     "name": "stdout",
     "output_type": "stream",
     "text": [
      "tensor(0.7578)\n",
      "0.7577734589576721\n"
     ]
    }
   ],
   "source": [
    "# Pick up a tensor element\n",
    "rs_tensor = rs[1,1]\n",
    "print(rs_tensor)\n",
    "\n",
    "# Extract number out of that tensor\n",
    "rs_number = rs_tensor.item()\n",
    "print(rs_number)"
   ]
  },
  {
   "cell_type": "markdown",
   "metadata": {},
   "source": [
    "## 7. NumPy - PyTorch - List interconversion"
   ]
  },
  {
   "cell_type": "code",
   "execution_count": 59,
   "metadata": {},
   "outputs": [
    {
     "name": "stdout",
     "output_type": "stream",
     "text": [
      "[1, 2, 3] <class 'list'>\n",
      "[[1, 2], [3, 4]] <class 'list'>\n",
      "tensor([1, 2, 3]) <class 'torch.Tensor'>\n",
      "tensor([[1, 2],\n",
      "        [3, 4]]) <class 'torch.Tensor'>\n",
      "[1 2 3] <class 'numpy.ndarray'>\n",
      "[[1 2]\n",
      " [3 4]] <class 'numpy.ndarray'>\n",
      "tensor([1, 2, 3]) <class 'torch.Tensor'>\n",
      "tensor([[1, 2],\n",
      "        [3, 4]]) <class 'torch.Tensor'>\n",
      "[1, 2, 3] <class 'list'>\n",
      "[[1, 2], [3, 4]] <class 'list'>\n"
     ]
    }
   ],
   "source": [
    "# Make list\n",
    "l_a = [1, 2, 3]\n",
    "l_b = [[1, 2], [3, 4]]\n",
    "\n",
    "print(l_a, type(l_a))\n",
    "print(l_b, type(l_b))\n",
    "\n",
    "# Convert list to tensor\n",
    "t_a = torch.tensor(l_a)\n",
    "t_b = torch.tensor(l_b)\n",
    "\n",
    "print(t_a, type(t_a))\n",
    "print(t_b, type(t_b))\n",
    "\n",
    "# Convert tensor to numpy\n",
    "n_a = t_a.numpy()\n",
    "n_b = t_b.numpy()\n",
    "\n",
    "print(n_a, type(n_a))\n",
    "print(n_b, type(n_b))\n",
    "\n",
    "# Convert numpy to tensor\n",
    "t2_a = torch.from_numpy(n_a)\n",
    "t2_b = torch.from_numpy(n_b)\n",
    "\n",
    "print(t2_a, type(t2_a))\n",
    "print(t2_b, type(t2_b))\n",
    "\n",
    "# Convert tensor to list\n",
    "l2_a = t2_a.tolist()\n",
    "l2_b = t2_b.tolist()\n",
    "\n",
    "print(l2_a, type(l2_a))\n",
    "print(l2_b, type(l2_b))"
   ]
  },
  {
   "cell_type": "code",
   "execution_count": null,
   "metadata": {},
   "outputs": [],
   "source": []
  }
 ],
 "metadata": {
  "kernelspec": {
   "display_name": "Python 3",
   "language": "python",
   "name": "python3"
  },
  "language_info": {
   "codemirror_mode": {
    "name": "ipython",
    "version": 3
   },
   "file_extension": ".py",
   "mimetype": "text/x-python",
   "name": "python",
   "nbconvert_exporter": "python",
   "pygments_lexer": "ipython3",
   "version": "3.8.2"
  }
 },
 "nbformat": 4,
 "nbformat_minor": 4
}
