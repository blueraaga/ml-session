{
 "cells": [
  {
   "cell_type": "markdown",
   "metadata": {},
   "source": [
    "# Basic PyTorch"
   ]
  },
  {
   "cell_type": "markdown",
   "metadata": {},
   "source": [
    "## 1. Import and use"
   ]
  },
  {
   "cell_type": "code",
   "execution_count": 2,
   "metadata": {},
   "outputs": [
    {
     "name": "stdout",
     "output_type": "stream",
     "text": [
      "1.4.0+cpu\n"
     ]
    }
   ],
   "source": [
    "# Import Toch and check version\n",
    "\n",
    "import torch\n",
    "\n",
    "print(torch.__version__)"
   ]
  },
  {
   "cell_type": "markdown",
   "metadata": {},
   "source": [
    "## 2. Create tensors"
   ]
  },
  {
   "cell_type": "code",
   "execution_count": 4,
   "metadata": {},
   "outputs": [
    {
     "name": "stdout",
     "output_type": "stream",
     "text": [
      "tensor([2, 2, 1])\n"
     ]
    }
   ],
   "source": [
    "# Create 1D tensor\n",
    "\n",
    "a = torch.tensor([2, 2, 1])\n",
    "print(a)"
   ]
  },
  {
   "cell_type": "code",
   "execution_count": 14,
   "metadata": {},
   "outputs": [
    {
     "name": "stdout",
     "output_type": "stream",
     "text": [
      "tensor([[2, 1, 4],\n",
      "        [3, 5, 4],\n",
      "        [1, 2, 0],\n",
      "        [4, 3, 2]])\n"
     ]
    }
   ],
   "source": [
    "# Create 2D tensor\n",
    "\n",
    "b = torch.tensor([\n",
    "    [2, 1, 4],\n",
    "    [3, 5, 4],\n",
    "    [1, 2, 0],\n",
    "    [4, 3, 2]\n",
    "    ])\n",
    "\n",
    "print(b)"
   ]
  },
  {
   "cell_type": "code",
   "execution_count": 25,
   "metadata": {},
   "outputs": [
    {
     "name": "stdout",
     "output_type": "stream",
     "text": [
      "tensor([[2., 1., 4.],\n",
      "        [3., 5., 4.],\n",
      "        [1., 2., 0.],\n",
      "        [4., 3., 2.]]) torch.float32\n"
     ]
    }
   ],
   "source": [
    "# Making tensors withnon-integer real numbers\n",
    "# setting dtype = float or double\n",
    "c = torch.tensor([\n",
    "    [2, 1, 4],\n",
    "    [3, 5, 4],\n",
    "    [1, 2, 0],\n",
    "    [4, 3, 2]\n",
    "    ], dtype=torch.float)\n",
    "\n",
    "print(c, c.dtype)"
   ]
  },
  {
   "cell_type": "markdown",
   "metadata": {},
   "source": [
    "## 3. Play with shape and size"
   ]
  },
  {
   "cell_type": "code",
   "execution_count": 15,
   "metadata": {},
   "outputs": [
    {
     "name": "stdout",
     "output_type": "stream",
     "text": [
      "Size and shape of a:  torch.Size([3])   torch.Size([3])\n",
      "Size and shape of b:  torch.Size([4, 3])   torch.Size([4, 3])\n"
     ]
    }
   ],
   "source": [
    "# Size and shape of tensors\n",
    "\n",
    "print(\"Size and shape of a: \", a.size(), \" \", a.shape)\n",
    "print(\"Size and shape of b: \", b.size(), \" \", b.shape)"
   ]
  },
  {
   "cell_type": "code",
   "execution_count": 16,
   "metadata": {},
   "outputs": [
    {
     "name": "stdout",
     "output_type": "stream",
     "text": [
      "Rows and columns of b:  4   3\n"
     ]
    }
   ],
   "source": [
    "# Rows and columns in a tensor\n",
    "\n",
    "print(\"Rows and columns of b: \", b.shape[0], \" \", b.shape[1])"
   ]
  },
  {
   "cell_type": "code",
   "execution_count": 24,
   "metadata": {},
   "outputs": [
    {
     "name": "stdout",
     "output_type": "stream",
     "text": [
      "b1(?, 2) tensor([[2, 1],\n",
      "        [4, 3],\n",
      "        [5, 4],\n",
      "        [1, 2],\n",
      "        [0, 4],\n",
      "        [3, 2]])\n",
      "b2(?) tensor([2, 1, 4, 3, 5, 4, 1, 2, 0, 4, 3, 2])\n",
      "b3(1, ?) tensor([[2, 1, 4, 3, 5, 4, 1, 2, 0, 4, 3, 2]])\n",
      "b4(?, 1) tensor([[2],\n",
      "        [1],\n",
      "        [4],\n",
      "        [3],\n",
      "        [5],\n",
      "        [4],\n",
      "        [1],\n",
      "        [2],\n",
      "        [0],\n",
      "        [4],\n",
      "        [3],\n",
      "        [2]])\n"
     ]
    }
   ],
   "source": [
    "# Reshaping array\n",
    "\n",
    "b1 = b.view(-1, 2)  # Auto infer row, col = 2\n",
    "print(\"b1(?, 2)\", b1)\n",
    "\n",
    "b2 = b.view(-1)  # Make no row, auto infer col \n",
    "print(\"b2(?)\", b2) \n",
    "\n",
    "b3 = b.view(1, -1)  # Make 1 row, auto infer col\n",
    "print(\"b3(1, ?)\", b3) \n",
    "\n",
    "b4 = b.view(-1, 1)  # Auto infer row, col = 1\n",
    "print(\"b4(?, 1)\", b4) "
   ]
  },
  {
   "cell_type": "markdown",
   "metadata": {},
   "source": [
    "## 4. Make tensors of specific type"
   ]
  },
  {
   "cell_type": "code",
   "execution_count": null,
   "metadata": {},
   "outputs": [],
   "source": []
  }
 ],
 "metadata": {
  "kernelspec": {
   "display_name": "Python 3",
   "language": "python",
   "name": "python3"
  },
  "language_info": {
   "codemirror_mode": {
    "name": "ipython",
    "version": 3
   },
   "file_extension": ".py",
   "mimetype": "text/x-python",
   "name": "python",
   "nbconvert_exporter": "python",
   "pygments_lexer": "ipython3",
   "version": "3.8.2"
  }
 },
 "nbformat": 4,
 "nbformat_minor": 4
}
