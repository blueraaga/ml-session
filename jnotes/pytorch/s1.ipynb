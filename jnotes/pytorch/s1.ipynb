{
 "cells": [
  {
   "cell_type": "markdown",
   "metadata": {},
   "source": [
    "# Basic PyTorch"
   ]
  },
  {
   "cell_type": "markdown",
   "metadata": {},
   "source": [
    "## 1. Import and use"
   ]
  },
  {
   "cell_type": "code",
   "execution_count": 2,
   "metadata": {},
   "outputs": [
    {
     "name": "stdout",
     "output_type": "stream",
     "text": [
      "1.4.0+cpu\n",
      "1.18.2\n"
     ]
    }
   ],
   "source": [
    "# Import Toch and check version\n",
    "\n",
    "import torch\n",
    "print(torch.__version__)\n",
    "\n",
    "import numpy as np\n",
    "print(np.__version__)\n"
   ]
  },
  {
   "cell_type": "markdown",
   "metadata": {},
   "source": [
    "## 2. Create tensors"
   ]
  },
  {
   "cell_type": "code",
   "execution_count": 3,
   "metadata": {},
   "outputs": [
    {
     "name": "stdout",
     "output_type": "stream",
     "text": [
      "tensor([2, 2, 1])\n"
     ]
    }
   ],
   "source": [
    "# Create 1D tensor\n",
    "\n",
    "a = torch.tensor([2, 2, 1])\n",
    "print(a)"
   ]
  },
  {
   "cell_type": "code",
   "execution_count": 4,
   "metadata": {},
   "outputs": [
    {
     "name": "stdout",
     "output_type": "stream",
     "text": [
      "tensor([[2, 1, 4],\n",
      "        [3, 5, 4],\n",
      "        [1, 2, 0],\n",
      "        [4, 3, 2]])\n"
     ]
    }
   ],
   "source": [
    "# Create 2D tensor\n",
    "\n",
    "b = torch.tensor([\n",
    "    [2, 1, 4],\n",
    "    [3, 5, 4],\n",
    "    [1, 2, 0],\n",
    "    [4, 3, 2]\n",
    "    ])\n",
    "\n",
    "print(b)"
   ]
  },
  {
   "cell_type": "code",
   "execution_count": 5,
   "metadata": {},
   "outputs": [
    {
     "name": "stdout",
     "output_type": "stream",
     "text": [
      "tensor([[2., 1., 4.],\n",
      "        [3., 5., 4.],\n",
      "        [1., 2., 0.],\n",
      "        [4., 3., 2.]]) torch.float32\n"
     ]
    }
   ],
   "source": [
    "# Making tensors withnon-integer real numbers\n",
    "# setting dtype = float or double\n",
    "c = torch.tensor([\n",
    "    [2, 1, 4],\n",
    "    [3, 5, 4],\n",
    "    [1, 2, 0],\n",
    "    [4, 3, 2]\n",
    "    ], dtype=torch.float)\n",
    "\n",
    "print(c, c.dtype)"
   ]
  },
  {
   "cell_type": "markdown",
   "metadata": {},
   "source": [
    "## 3. Play with shape and size"
   ]
  },
  {
   "cell_type": "code",
   "execution_count": 6,
   "metadata": {},
   "outputs": [
    {
     "name": "stdout",
     "output_type": "stream",
     "text": [
      "Size and shape of a:  torch.Size([3])   torch.Size([3])\n",
      "Size and shape of b:  torch.Size([4, 3])   torch.Size([4, 3])\n"
     ]
    }
   ],
   "source": [
    "# Size and shape of tensors\n",
    "\n",
    "print(\"Size and shape of a: \", a.size(), \" \", a.shape)\n",
    "print(\"Size and shape of b: \", b.size(), \" \", b.shape)"
   ]
  },
  {
   "cell_type": "code",
   "execution_count": 7,
   "metadata": {},
   "outputs": [
    {
     "name": "stdout",
     "output_type": "stream",
     "text": [
      "Rows and columns of b:  4   3\n"
     ]
    }
   ],
   "source": [
    "# Rows and columns in a tensor\n",
    "\n",
    "print(\"Rows and columns of b: \", b.shape[0], \" \", b.shape[1])"
   ]
  },
  {
   "cell_type": "code",
   "execution_count": 8,
   "metadata": {},
   "outputs": [
    {
     "name": "stdout",
     "output_type": "stream",
     "text": [
      "b1(?, 2) tensor([[2, 1],\n",
      "        [4, 3],\n",
      "        [5, 4],\n",
      "        [1, 2],\n",
      "        [0, 4],\n",
      "        [3, 2]])\n",
      "b2(?) tensor([2, 1, 4, 3, 5, 4, 1, 2, 0, 4, 3, 2])\n",
      "b3(1, ?) tensor([[2, 1, 4, 3, 5, 4, 1, 2, 0, 4, 3, 2]])\n",
      "b4(?, 1) tensor([[2],\n",
      "        [1],\n",
      "        [4],\n",
      "        [3],\n",
      "        [5],\n",
      "        [4],\n",
      "        [1],\n",
      "        [2],\n",
      "        [0],\n",
      "        [4],\n",
      "        [3],\n",
      "        [2]])\n"
     ]
    }
   ],
   "source": [
    "# Reshaping array\n",
    "\n",
    "b1 = b.view(-1, 2)  # Auto infer row, col = 2\n",
    "print(\"b1(?, 2)\", b1)\n",
    "\n",
    "b2 = b.view(-1)  # Make no row, auto infer col \n",
    "print(\"b2(?)\", b2) \n",
    "\n",
    "b3 = b.view(1, -1)  # Make 1 row, auto infer col\n",
    "print(\"b3(1, ?)\", b3) \n",
    "\n",
    "b4 = b.view(-1, 1)  # Auto infer row, col = 1\n",
    "print(\"b4(?, 1)\", b4) "
   ]
  },
  {
   "cell_type": "markdown",
   "metadata": {},
   "source": [
    "## 4. Make tensors of specific type"
   ]
  },
  {
   "cell_type": "code",
   "execution_count": 9,
   "metadata": {},
   "outputs": [
    {
     "name": "stdout",
     "output_type": "stream",
     "text": [
      "torch.float32 tensor([[0.9061, 0.1461, 0.7432, 0.3904],\n",
      "        [0.2357, 0.8778, 0.7968, 0.0709],\n",
      "        [0.8241, 0.4513, 0.8280, 0.9439]])\n"
     ]
    }
   ],
   "source": [
    "# Create a random 2D tensor\n",
    "\n",
    "r1 = torch.rand(3, 4)\n",
    "print(r1.dtype, r1)"
   ]
  },
  {
   "cell_type": "code",
   "execution_count": 10,
   "metadata": {},
   "outputs": [
    {
     "name": "stdout",
     "output_type": "stream",
     "text": [
      "torch.float32 tensor([[0.0077, 0.5275, 0.8229, 0.1207],\n",
      "        [0.6937, 0.3650, 0.8680, 0.6750],\n",
      "        [0.4006, 0.1397, 0.4023, 0.2447]])\n"
     ]
    }
   ],
   "source": [
    "# Create a random 2D tensor from a N(0,1)\n",
    "\n",
    "r2 = torch.rand(3, 4)\n",
    "print(r2.dtype, r2)"
   ]
  },
  {
   "cell_type": "code",
   "execution_count": 11,
   "metadata": {},
   "outputs": [
    {
     "name": "stdout",
     "output_type": "stream",
     "text": [
      "torch.float32 tensor([[[0.6827, 0.4841, 0.7020, 0.2331],\n",
      "         [0.0310, 0.4937, 0.5528, 0.7902],\n",
      "         [0.3664, 0.7185, 0.3187, 0.8146]],\n",
      "\n",
      "        [[0.2992, 0.8918, 0.0772, 0.8908],\n",
      "         [0.2604, 0.3018, 0.9255, 0.8316],\n",
      "         [0.2347, 0.1850, 0.2657, 0.7437]]])\n"
     ]
    }
   ],
   "source": [
    "# Create a random 3D tensor from a N(0,1)\n",
    "\n",
    "r3 = torch.rand(2, 3, 4)\n",
    "print(r3.dtype, r3)"
   ]
  },
  {
   "cell_type": "code",
   "execution_count": 12,
   "metadata": {},
   "outputs": [
    {
     "name": "stdout",
     "output_type": "stream",
     "text": [
      "torch.int64 tensor([8, 6, 7, 7, 6])\n",
      "torch.int64 tensor([[7, 8, 6],\n",
      "        [8, 8, 9]])\n"
     ]
    }
   ],
   "source": [
    "# Create int array from a given range, of a given size\n",
    "\n",
    "i1 = torch.randint(6, 10, (5,))  # 10 is excluded\n",
    "print(i1.dtype, i1)\n",
    "\n",
    "i2 = torch.randint(6, 10, (2,3))\n",
    "print(i2.dtype, i2)"
   ]
  },
  {
   "cell_type": "code",
   "execution_count": 13,
   "metadata": {},
   "outputs": [
    {
     "name": "stdout",
     "output_type": "stream",
     "text": [
      "tensor([[0., 0., 0.],\n",
      "        [0., 0., 0.]])\n"
     ]
    }
   ],
   "source": [
    "# Create a Zeros matrix\n",
    "\n",
    "z = torch.zeros(2, 3)\n",
    "print(z)"
   ]
  },
  {
   "cell_type": "code",
   "execution_count": 14,
   "metadata": {},
   "outputs": [
    {
     "name": "stdout",
     "output_type": "stream",
     "text": [
      "tensor([[1., 1., 1.],\n",
      "        [1., 1., 1.]])\n"
     ]
    }
   ],
   "source": [
    "# Create a Ones matrix\n",
    "\n",
    "o = torch.ones(2, 3)\n",
    "print(o)"
   ]
  },
  {
   "cell_type": "code",
   "execution_count": 15,
   "metadata": {},
   "outputs": [
    {
     "name": "stdout",
     "output_type": "stream",
     "text": [
      "tensor([[0.4201, 0.9795, 0.5203, 0.6747],\n",
      "        [0.4176, 0.6005, 0.4882, 0.9816],\n",
      "        [0.9837, 0.7291, 0.6752, 0.9573]], dtype=torch.float64)\n"
     ]
    }
   ],
   "source": [
    "# Create a tensor like the size of another tensor, of a give data type\n",
    "\n",
    "r2_la = torch.rand_like(r2, dtype=torch.double)\n",
    "print(r2_la)"
   ]
  },
  {
   "cell_type": "markdown",
   "metadata": {},
   "source": [
    "## 5. Slicing tensors"
   ]
  },
  {
   "cell_type": "code",
   "execution_count": 16,
   "metadata": {},
   "outputs": [
    {
     "name": "stdout",
     "output_type": "stream",
     "text": [
      "tensor([[0.2603, 0.0609, 0.7094],\n",
      "        [0.6899, 0.2892, 0.8653],\n",
      "        [0.3204, 0.0861, 0.7744]])\n",
      "tensor([0.0609, 0.2892, 0.0861]) torch.Size([3])\n",
      "tensor([[0.0609],\n",
      "        [0.2892],\n",
      "        [0.0861]]) torch.Size([3, 1])\n",
      "tensor([0.3204, 0.0861, 0.7744])\n",
      "tensor([[0.6899, 0.2892],\n",
      "        [0.3204, 0.0861]])\n"
     ]
    }
   ],
   "source": [
    "rs = torch.rand(3, 3)\n",
    "print(rs)\n",
    "\n",
    "# All row, col index 1\n",
    "rs1 = rs[:,1]\n",
    "print(rs1, rs1.shape)\n",
    "\n",
    "# All row, col index 1 while keeping the \"shape\"\n",
    "rs2 = rs[:,1:2]\n",
    "print(rs2, rs2.shape)\n",
    "\n",
    "\n",
    "# All col, row index 2\n",
    "print(rs[2,:])\n",
    "\n",
    "# Row index 1-2, col index 0-1\n",
    "print(rs[1:, :2])"
   ]
  },
  {
   "cell_type": "markdown",
   "metadata": {},
   "source": [
    "## 6. Extracting element"
   ]
  },
  {
   "cell_type": "code",
   "execution_count": 17,
   "metadata": {},
   "outputs": [
    {
     "name": "stdout",
     "output_type": "stream",
     "text": [
      "tensor(0.2892)\n",
      "0.28918391466140747\n"
     ]
    }
   ],
   "source": [
    "# Pick up a tensor element\n",
    "rs_tensor = rs[1,1]\n",
    "print(rs_tensor)\n",
    "\n",
    "# Extract number out of that tensor\n",
    "rs_number = rs_tensor.item()\n",
    "print(rs_number)"
   ]
  },
  {
   "cell_type": "markdown",
   "metadata": {},
   "source": [
    "## 7. NumPy - PyTorch - List interconversion"
   ]
  },
  {
   "cell_type": "code",
   "execution_count": 18,
   "metadata": {},
   "outputs": [
    {
     "name": "stdout",
     "output_type": "stream",
     "text": [
      "[1, 2, 3] <class 'list'>\n",
      "[[1, 2], [3, 4]] <class 'list'>\n",
      "tensor([1, 2, 3]) <class 'torch.Tensor'>\n",
      "tensor([[1, 2],\n",
      "        [3, 4]]) <class 'torch.Tensor'>\n",
      "[1 2 3] <class 'numpy.ndarray'>\n",
      "[[1 2]\n",
      " [3 4]] <class 'numpy.ndarray'>\n",
      "tensor([1, 2, 3]) <class 'torch.Tensor'>\n",
      "tensor([[1, 2],\n",
      "        [3, 4]]) <class 'torch.Tensor'>\n",
      "[1, 2, 3] <class 'list'>\n",
      "[[1, 2], [3, 4]] <class 'list'>\n"
     ]
    }
   ],
   "source": [
    "# Make list\n",
    "l_a = [1, 2, 3]\n",
    "l_b = [[1, 2], [3, 4]]\n",
    "\n",
    "print(l_a, type(l_a))\n",
    "print(l_b, type(l_b))\n",
    "\n",
    "# Convert list to tensor\n",
    "t_a = torch.tensor(l_a)\n",
    "t_b = torch.tensor(l_b)\n",
    "\n",
    "print(t_a, type(t_a))\n",
    "print(t_b, type(t_b))\n",
    "\n",
    "# Convert tensor to numpy\n",
    "n_a = t_a.numpy()\n",
    "n_b = t_b.numpy()\n",
    "\n",
    "print(n_a, type(n_a))\n",
    "print(n_b, type(n_b))\n",
    "\n",
    "# Convert numpy to tensor\n",
    "t2_a = torch.from_numpy(n_a)\n",
    "t2_b = torch.from_numpy(n_b)\n",
    "\n",
    "print(t2_a, type(t2_a))\n",
    "print(t2_b, type(t2_b))\n",
    "\n",
    "# Convert tensor to list\n",
    "l2_a = t2_a.tolist()\n",
    "l2_b = t2_b.tolist()\n",
    "\n",
    "print(l2_a, type(l2_a))\n",
    "print(l2_b, type(l2_b))"
   ]
  },
  {
   "cell_type": "markdown",
   "metadata": {},
   "source": [
    "## 8. Tensor concatenation"
   ]
  },
  {
   "cell_type": "code",
   "execution_count": 19,
   "metadata": {},
   "outputs": [
    {
     "name": "stdout",
     "output_type": "stream",
     "text": [
      "IP tensor 1 \n",
      " tensor([[-0.1069, -0.5393,  0.3637, -1.2491,  0.5409],\n",
      "        [-0.6241, -0.1017,  0.9806,  0.5713, -0.3293]])\n",
      "IP tensor 2 \n",
      " tensor([[-1.7968, -0.8417,  1.3281,  0.5404,  0.9872],\n",
      "        [ 0.3730,  0.1417,  1.5819,  0.3763, -0.1709],\n",
      "        [-1.5795,  0.4513, -0.5372,  0.6090, -0.0854]])\n",
      "OP tensor \n",
      " tensor([[-0.1069, -0.5393,  0.3637, -1.2491,  0.5409],\n",
      "        [-0.6241, -0.1017,  0.9806,  0.5713, -0.3293],\n",
      "        [-1.7968, -0.8417,  1.3281,  0.5404,  0.9872],\n",
      "        [ 0.3730,  0.1417,  1.5819,  0.3763, -0.1709],\n",
      "        [-1.5795,  0.4513, -0.5372,  0.6090, -0.0854]])\n"
     ]
    }
   ],
   "source": [
    "# Row concatenation of tensors - concat alson dim 0\n",
    "# Size must match in all except dim 0\n",
    "\n",
    "ft1 = torch.randn(2, 5)\n",
    "ft2 = torch.randn(3, 5)\n",
    "\n",
    "print(\"IP tensor 1 \\n\", ft1)\n",
    "print(\"IP tensor 2 \\n\", ft2)\n",
    "\n",
    "fr = torch.cat([ft1, ft2])\n",
    "print(\"OP tensor \\n\", fr)"
   ]
  },
  {
   "cell_type": "code",
   "execution_count": 20,
   "metadata": {},
   "outputs": [
    {
     "name": "stdout",
     "output_type": "stream",
     "text": [
      "IP tensor 1 \n",
      " tensor([[ 0.0705, -0.6250, -0.0855],\n",
      "        [-1.4911, -0.2035, -0.2937],\n",
      "        [ 1.6193,  1.2257,  1.0012],\n",
      "        [-0.3547,  0.2732, -0.8293]])\n",
      "IP tensor 2 \n",
      " tensor([[ 0.2552, -1.4264],\n",
      "        [ 2.3718, -0.0513],\n",
      "        [ 0.4184, -0.1394],\n",
      "        [-1.0603,  1.9741]])\n",
      "OP tensor \n",
      " tensor([[ 0.0705, -0.6250, -0.0855,  0.2552, -1.4264],\n",
      "        [-1.4911, -0.2035, -0.2937,  2.3718, -0.0513],\n",
      "        [ 1.6193,  1.2257,  1.0012,  0.4184, -0.1394],\n",
      "        [-0.3547,  0.2732, -0.8293, -1.0603,  1.9741]])\n"
     ]
    }
   ],
   "source": [
    "# Column concatenation of tensors - concat alson dim 1\n",
    "# Size must match in all except dim 1\n",
    "st1 = torch.randn(4, 3)\n",
    "st2 = torch.randn(4, 2)\n",
    "\n",
    "print(\"IP tensor 1 \\n\", st1)\n",
    "print(\"IP tensor 2 \\n\", st2)\n",
    "\n",
    "sr = torch.cat([st1, st2], 1)\n",
    "print(\"OP tensor \\n\", sr)"
   ]
  },
  {
   "cell_type": "markdown",
   "metadata": {},
   "source": [
    "## 9. Tensor dimension manipulation"
   ]
  },
  {
   "cell_type": "code",
   "execution_count": 31,
   "metadata": {},
   "outputs": [
    {
     "name": "stdout",
     "output_type": "stream",
     "text": [
      "tensor([0.9844, 0.1049, 0.8358]) torch.Size([3])\n",
      "tensor([[0.9844, 0.1049, 0.8358]]) torch.Size([1, 3])\n",
      "tensor([[0.9844],\n",
      "        [0.1049],\n",
      "        [0.8358]]) torch.Size([3, 1])\n",
      "\n",
      "\n",
      "tensor([[0.1895, 0.6965, 0.0510],\n",
      "        [0.8315, 0.9958, 0.4457]]) torch.Size([2, 3])\n",
      "tensor([[[0.1895, 0.6965, 0.0510],\n",
      "         [0.8315, 0.9958, 0.4457]]]) torch.Size([1, 2, 3])\n",
      "tensor([[[0.1895, 0.6965, 0.0510]],\n",
      "\n",
      "        [[0.8315, 0.9958, 0.4457]]]) torch.Size([2, 1, 3])\n",
      "tensor([[[0.1895],\n",
      "         [0.6965],\n",
      "         [0.0510]],\n",
      "\n",
      "        [[0.8315],\n",
      "         [0.9958],\n",
      "         [0.4457]]]) torch.Size([2, 3, 1])\n"
     ]
    }
   ],
   "source": [
    "# Unsqueeze tensor i.e. add 1 more dimension\n",
    "# within the range of current dimensions\n",
    "\n",
    "# 1D tensor\n",
    "t1 = torch.rand(3)\n",
    "print(t1, t1.shape)\n",
    "\n",
    "t1s0 = torch.unsqueeze(t1, 0)\n",
    "print(t1s0, t1s0.shape)\n",
    "\n",
    "t1s1 = torch.unsqueeze(t1, 1)\n",
    "print(t1s1, t1s1.shape)\n",
    "\n",
    "print(\"\\n\")\n",
    "\n",
    "# 2D tensor\n",
    "t2 = torch.rand(2,3)\n",
    "print(t2, t2.shape)\n",
    "\n",
    "t2s0 = torch.unsqueeze(t2, 0)\n",
    "print(t2s0, t2s0.shape)\n",
    "\n",
    "t2s1 = torch.unsqueeze(t2, 1)\n",
    "print(t2s1, t2s1.shape)\n",
    "\n",
    "t2s2 = torch.unsqueeze(t2, 2)\n",
    "print(t2s2, t2s2.shape)"
   ]
  },
  {
   "cell_type": "code",
   "execution_count": 34,
   "metadata": {},
   "outputs": [
    {
     "name": "stdout",
     "output_type": "stream",
     "text": [
      "tensor([[0.1895, 0.6965, 0.0510],\n",
      "        [0.8315, 0.9958, 0.4457]]) torch.Size([2, 3])\n",
      "tensor([[[0.1895, 0.6965, 0.0510]],\n",
      "\n",
      "        [[0.8315, 0.9958, 0.4457]]]) torch.Size([2, 1, 3])\n",
      "tensor([[0.1895, 0.6965, 0.0510],\n",
      "        [0.8315, 0.9958, 0.4457]]) torch.Size([2, 3])\n",
      "tensor([[[0.1895, 0.6965, 0.0510]],\n",
      "\n",
      "        [[0.8315, 0.9958, 0.4457]]]) torch.Size([2, 1, 3])\n"
     ]
    }
   ],
   "source": [
    "# Squeeze tensor i.e. remove dimension of size 1\n",
    "# else leave it unchanged\n",
    "\n",
    "t2s1u = torch.squeeze(t2s1)\n",
    "print(t2s1u, t2s1u.shape)\n",
    "\n",
    "t2s1u0 = torch.squeeze(t2s1, 0)\n",
    "print(t2s1u0, t2s1u0.shape)\n",
    "\n",
    "t2s1u1 = torch.squeeze(t2s1, 1)\n",
    "print(t2s1u1, t2s1u1.shape)\n",
    "\n",
    "t2s1u2 = torch.squeeze(t2s1, 2)\n",
    "print(t2s1u2, t2s1u2.shape)\n"
   ]
  },
  {
   "cell_type": "code",
   "execution_count": null,
   "metadata": {},
   "outputs": [],
   "source": []
  }
 ],
 "metadata": {
  "kernelspec": {
   "display_name": "Python 3",
   "language": "python",
   "name": "python3"
  },
  "language_info": {
   "codemirror_mode": {
    "name": "ipython",
    "version": 3
   },
   "file_extension": ".py",
   "mimetype": "text/x-python",
   "name": "python",
   "nbconvert_exporter": "python",
   "pygments_lexer": "ipython3",
   "version": "3.8.2"
  }
 },
 "nbformat": 4,
 "nbformat_minor": 4
}
